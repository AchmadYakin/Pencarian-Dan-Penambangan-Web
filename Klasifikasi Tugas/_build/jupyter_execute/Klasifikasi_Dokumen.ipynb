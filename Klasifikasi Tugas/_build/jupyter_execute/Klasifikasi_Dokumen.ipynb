{
 "cells": [
  {
   "cell_type": "markdown",
   "metadata": {
    "id": "wKEQHxcYQ0kz"
   },
   "source": [
    "# Vector Space Model"
   ]
  },
  {
   "cell_type": "markdown",
   "metadata": {
    "id": "COcv112lQ5Xb"
   },
   "source": [
    "Vector Space Model adalah sebuah model yang mempresentasikan dokumen sebagai vector dari term dalam ruang. Didalam model ini setiap kata dalam dokumen direpresentasikan sebagai sebuah fitur dalam vektor dan bobot tiap kata ditentukan oleh Tf-Idf."
   ]
  },
  {
   "cell_type": "markdown",
   "metadata": {
    "id": "SKFiKJ8PRBiv"
   },
   "source": [
    "## Term Frequency (TF)"
   ]
  },
  {
   "cell_type": "markdown",
   "metadata": {
    "id": "ZPnG29z-RJeu"
   },
   "source": [
    "Term Frequency (TF) adalah ukuran yang menghitung jumlah suatu term dalam suatu dokumen. dalam prosesnya, term frequency memberikan bobot pada term yang relevan dengan dokumen. semakin sering term muncul maka semakin penting term tersebut untuk dokumen."
   ]
  },
  {
   "cell_type": "markdown",
   "metadata": {
    "id": "v5wRYN5-Rdxy"
   },
   "source": [
    "## Inverse Document Frequency (IDF)"
   ]
  },
  {
   "cell_type": "markdown",
   "metadata": {
    "id": "qK6DrJn_RiKF"
   },
   "source": [
    "Inverse Document Frequency (IDF) adalah suatu ukuran yang menunjukkan seberapa informatif suatu term dalam koleksi dokumen, semakin tinggi nilai IDF maka semakin jarang term t muncul dikoleksi dokumen."
   ]
  },
  {
   "cell_type": "markdown",
   "metadata": {
    "id": "KYK3J7KuSFNx"
   },
   "source": [
    "## Code Program"
   ]
  },
  {
   "cell_type": "markdown",
   "metadata": {
    "id": "Kg009kfgSKr4"
   },
   "source": [
    "### Library"
   ]
  },
  {
   "cell_type": "code",
   "execution_count": 1,
   "metadata": {
    "id": "mIAQhMAvSJ2L"
   },
   "outputs": [],
   "source": [
    "import pandas as pd\n",
    "import re\n",
    "from sklearn.feature_extraction.text import TfidfVectorizer\n",
    "from sklearn.model_selection import train_test_split\n",
    "from sklearn.linear_model import LogisticRegression\n",
    "from sklearn.metrics import accuracy_score, confusion_matrix, classification_report"
   ]
  },
  {
   "cell_type": "markdown",
   "metadata": {
    "id": "TmT1s0BhTScf"
   },
   "source": [
    "### Read Data"
   ]
  },
  {
   "cell_type": "code",
   "execution_count": 2,
   "metadata": {
    "id": "EqcIwJqiTYHj"
   },
   "outputs": [],
   "source": [
    "# membaca file csv\n",
    "df = pd.read_csv('../SindoNews.csv')"
   ]
  },
  {
   "cell_type": "code",
   "execution_count": 3,
   "metadata": {
    "colab": {
     "base_uri": "https://localhost:8080/",
     "height": 206
    },
    "id": "ynSLqWhmT9qV",
    "outputId": "163946b1-85c5-4f25-d3ed-9fb1710e1d58"
   },
   "outputs": [
    {
     "data": {
      "text/html": [
       "<div>\n",
       "<style scoped>\n",
       "    .dataframe tbody tr th:only-of-type {\n",
       "        vertical-align: middle;\n",
       "    }\n",
       "\n",
       "    .dataframe tbody tr th {\n",
       "        vertical-align: top;\n",
       "    }\n",
       "\n",
       "    .dataframe thead th {\n",
       "        text-align: right;\n",
       "    }\n",
       "</style>\n",
       "<table border=\"1\" class=\"dataframe\">\n",
       "  <thead>\n",
       "    <tr style=\"text-align: right;\">\n",
       "      <th></th>\n",
       "      <th>Judul</th>\n",
       "      <th>Isi Berita</th>\n",
       "      <th>Tanggal Berita</th>\n",
       "      <th>Kategori</th>\n",
       "    </tr>\n",
       "  </thead>\n",
       "  <tbody>\n",
       "    <tr>\n",
       "      <th>0</th>\n",
       "      <td>LRT Jabodebek Dukung Konferensi Kereta Api se-...</td>\n",
       "      <td>Indonesia menjadi tuan rumah Asean Railway CEO...</td>\n",
       "      <td>Senin, 02 September 2024 - 23:51 WIB</td>\n",
       "      <td>EKONOMI BISNIS</td>\n",
       "    </tr>\n",
       "    <tr>\n",
       "      <th>1</th>\n",
       "      <td>Kementerian PUPR Sebut Capaian 10 Tahun Infras...</td>\n",
       "      <td>Jubir Kementerian PUPR, Endra S Atmawidjaja me...</td>\n",
       "      <td>Senin, 02 September 2024 - 23:28 WIB</td>\n",
       "      <td>NASIONAL</td>\n",
       "    </tr>\n",
       "    <tr>\n",
       "      <th>2</th>\n",
       "      <td>Tingkatkan Produktivitas, Kementan Tanam Bersa...</td>\n",
       "      <td>Pemerintah terus berupaya meningkatkan produks...</td>\n",
       "      <td>Senin, 02 September 2024 - 23:14 WIB</td>\n",
       "      <td>DAERAH</td>\n",
       "    </tr>\n",
       "    <tr>\n",
       "      <th>3</th>\n",
       "      <td>6 Fakta Pernikahan Putri Norwegia Martha Louis...</td>\n",
       "      <td>Fakta pernikahan Putri Norwegia Martha Louise ...</td>\n",
       "      <td>Senin, 02 September 2024 - 23:40 WIB</td>\n",
       "      <td>LIFESTYLE</td>\n",
       "    </tr>\n",
       "    <tr>\n",
       "      <th>4</th>\n",
       "      <td>6 Tersangka Pengeroyokan Tahanan Rutan Depok h...</td>\n",
       "      <td>Kapolres Depok, Kombes Pol Arya Perdana mengat...</td>\n",
       "      <td>Senin, 02 September 2024 - 23:54 WIB</td>\n",
       "      <td>METRO</td>\n",
       "    </tr>\n",
       "  </tbody>\n",
       "</table>\n",
       "</div>"
      ],
      "text/plain": [
       "                                               Judul  \\\n",
       "0  LRT Jabodebek Dukung Konferensi Kereta Api se-...   \n",
       "1  Kementerian PUPR Sebut Capaian 10 Tahun Infras...   \n",
       "2  Tingkatkan Produktivitas, Kementan Tanam Bersa...   \n",
       "3  6 Fakta Pernikahan Putri Norwegia Martha Louis...   \n",
       "4  6 Tersangka Pengeroyokan Tahanan Rutan Depok h...   \n",
       "\n",
       "                                          Isi Berita  \\\n",
       "0  Indonesia menjadi tuan rumah Asean Railway CEO...   \n",
       "1  Jubir Kementerian PUPR, Endra S Atmawidjaja me...   \n",
       "2  Pemerintah terus berupaya meningkatkan produks...   \n",
       "3  Fakta pernikahan Putri Norwegia Martha Louise ...   \n",
       "4  Kapolres Depok, Kombes Pol Arya Perdana mengat...   \n",
       "\n",
       "                         Tanggal Berita        Kategori  \n",
       "0  Senin, 02 September 2024 - 23:51 WIB  EKONOMI BISNIS  \n",
       "1  Senin, 02 September 2024 - 23:28 WIB        NASIONAL  \n",
       "2  Senin, 02 September 2024 - 23:14 WIB          DAERAH  \n",
       "3  Senin, 02 September 2024 - 23:40 WIB       LIFESTYLE  \n",
       "4  Senin, 02 September 2024 - 23:54 WIB           METRO  "
      ]
     },
     "execution_count": 3,
     "metadata": {},
     "output_type": "execute_result"
    }
   ],
   "source": [
    "# menampilkan 5 dataframe awal\n",
    "df.head()"
   ]
  },
  {
   "cell_type": "code",
   "execution_count": 4,
   "metadata": {
    "colab": {
     "base_uri": "https://localhost:8080/"
    },
    "id": "ohS_62UYUF1i",
    "outputId": "e5754486-87f7-403f-d56f-a8b41e9d8873"
   },
   "outputs": [
    {
     "data": {
      "text/plain": [
       "(100, 4)"
      ]
     },
     "execution_count": 4,
     "metadata": {},
     "output_type": "execute_result"
    }
   ],
   "source": [
    "# mengetahui dimensi dataframe\n",
    "df.shape"
   ]
  },
  {
   "cell_type": "markdown",
   "metadata": {
    "id": "L-1QhEHJY6aN"
   },
   "source": [
    "Jumlah data sebanyak 100 data dan terdiri dari 4 fitur."
   ]
  },
  {
   "cell_type": "markdown",
   "metadata": {
    "id": "3DB1UI2lZgmF"
   },
   "source": [
    "### Prepocessing"
   ]
  },
  {
   "cell_type": "code",
   "execution_count": 5,
   "metadata": {
    "id": "SJMcxyYdZjal"
   },
   "outputs": [],
   "source": [
    "# Menghilangkan karakter \\t, \\n, \\r dalam kolom 'Isi Berita'\n",
    "df['Isi Berita'] = df['Isi Berita'].replace(r'[\\t\\n\\r]|\\d+', ' ', regex=True)\n",
    "\n",
    "# Mengatasi spasi berlebih dalam kolom 'isi'\n",
    "df['Isi Berita'] = df['Isi Berita'].apply(lambda x: re.sub(r'\\s+', ' ', x))\n",
    "\n",
    "# Ambil teks dari kolom 'Isi Berita' dalam DataFrame\n",
    "isi = df['Isi Berita']"
   ]
  },
  {
   "cell_type": "markdown",
   "metadata": {},
   "source": [
    "Prepocessing data dengan menghilangkan karakter newline, tab dan lain sebagainya pada dataframe dengan kolom \"ISI BERITA\" "
   ]
  },
  {
   "cell_type": "markdown",
   "metadata": {
    "id": "5YHOoQK1frtl"
   },
   "source": [
    "# TF-IDF"
   ]
  },
  {
   "cell_type": "markdown",
   "metadata": {
    "id": "Z8yB6zufiVrM"
   },
   "source": [
    "### Vector Space Model"
   ]
  },
  {
   "cell_type": "code",
   "execution_count": 6,
   "metadata": {
    "colab": {
     "base_uri": "https://localhost:8080/",
     "height": 443
    },
    "id": "P-MWeMV2icr0",
    "outputId": "2ae09c83-c86f-42dd-c3c5-f667df296f03"
   },
   "outputs": [
    {
     "data": {
      "text/html": [
       "<div>\n",
       "<style scoped>\n",
       "    .dataframe tbody tr th:only-of-type {\n",
       "        vertical-align: middle;\n",
       "    }\n",
       "\n",
       "    .dataframe tbody tr th {\n",
       "        vertical-align: top;\n",
       "    }\n",
       "\n",
       "    .dataframe thead th {\n",
       "        text-align: right;\n",
       "    }\n",
       "</style>\n",
       "<table border=\"1\" class=\"dataframe\">\n",
       "  <thead>\n",
       "    <tr style=\"text-align: right;\">\n",
       "      <th></th>\n",
       "      <th>abdullah</th>\n",
       "      <th>acara</th>\n",
       "      <th>ada</th>\n",
       "      <th>adalah</th>\n",
       "      <th>adanya</th>\n",
       "      <th>addin</th>\n",
       "      <th>address</th>\n",
       "      <th>adik</th>\n",
       "      <th>afc</th>\n",
       "      <th>agama</th>\n",
       "      <th>...</th>\n",
       "      <th>yaqut</th>\n",
       "      <th>yon</th>\n",
       "      <th>yong</th>\n",
       "      <th>yudha</th>\n",
       "      <th>yuk</th>\n",
       "      <th>zainal</th>\n",
       "      <th>zakat</th>\n",
       "      <th>zaman</th>\n",
       "      <th>zarnubi</th>\n",
       "      <th>zona</th>\n",
       "    </tr>\n",
       "  </thead>\n",
       "  <tbody>\n",
       "    <tr>\n",
       "      <th>0</th>\n",
       "      <td>0.000000</td>\n",
       "      <td>0.0</td>\n",
       "      <td>0.0</td>\n",
       "      <td>0.000000</td>\n",
       "      <td>0.0</td>\n",
       "      <td>0.000000</td>\n",
       "      <td>0.0</td>\n",
       "      <td>0.0</td>\n",
       "      <td>0.0</td>\n",
       "      <td>0.0</td>\n",
       "      <td>...</td>\n",
       "      <td>0.0</td>\n",
       "      <td>0.0</td>\n",
       "      <td>0.0</td>\n",
       "      <td>0.0</td>\n",
       "      <td>0.0</td>\n",
       "      <td>0.0</td>\n",
       "      <td>0.0</td>\n",
       "      <td>0.0</td>\n",
       "      <td>0.0</td>\n",
       "      <td>0.00000</td>\n",
       "    </tr>\n",
       "    <tr>\n",
       "      <th>1</th>\n",
       "      <td>0.000000</td>\n",
       "      <td>0.0</td>\n",
       "      <td>0.0</td>\n",
       "      <td>0.000000</td>\n",
       "      <td>0.0</td>\n",
       "      <td>0.000000</td>\n",
       "      <td>0.0</td>\n",
       "      <td>0.0</td>\n",
       "      <td>0.0</td>\n",
       "      <td>0.0</td>\n",
       "      <td>...</td>\n",
       "      <td>0.0</td>\n",
       "      <td>0.0</td>\n",
       "      <td>0.0</td>\n",
       "      <td>0.0</td>\n",
       "      <td>0.0</td>\n",
       "      <td>0.0</td>\n",
       "      <td>0.0</td>\n",
       "      <td>0.0</td>\n",
       "      <td>0.0</td>\n",
       "      <td>0.00000</td>\n",
       "    </tr>\n",
       "    <tr>\n",
       "      <th>2</th>\n",
       "      <td>0.000000</td>\n",
       "      <td>0.0</td>\n",
       "      <td>0.0</td>\n",
       "      <td>0.164877</td>\n",
       "      <td>0.0</td>\n",
       "      <td>0.000000</td>\n",
       "      <td>0.0</td>\n",
       "      <td>0.0</td>\n",
       "      <td>0.0</td>\n",
       "      <td>0.0</td>\n",
       "      <td>...</td>\n",
       "      <td>0.0</td>\n",
       "      <td>0.0</td>\n",
       "      <td>0.0</td>\n",
       "      <td>0.0</td>\n",
       "      <td>0.0</td>\n",
       "      <td>0.0</td>\n",
       "      <td>0.0</td>\n",
       "      <td>0.0</td>\n",
       "      <td>0.0</td>\n",
       "      <td>0.00000</td>\n",
       "    </tr>\n",
       "    <tr>\n",
       "      <th>3</th>\n",
       "      <td>0.000000</td>\n",
       "      <td>0.0</td>\n",
       "      <td>0.0</td>\n",
       "      <td>0.000000</td>\n",
       "      <td>0.0</td>\n",
       "      <td>0.000000</td>\n",
       "      <td>0.0</td>\n",
       "      <td>0.0</td>\n",
       "      <td>0.0</td>\n",
       "      <td>0.0</td>\n",
       "      <td>...</td>\n",
       "      <td>0.0</td>\n",
       "      <td>0.0</td>\n",
       "      <td>0.0</td>\n",
       "      <td>0.0</td>\n",
       "      <td>0.0</td>\n",
       "      <td>0.0</td>\n",
       "      <td>0.0</td>\n",
       "      <td>0.0</td>\n",
       "      <td>0.0</td>\n",
       "      <td>0.00000</td>\n",
       "    </tr>\n",
       "    <tr>\n",
       "      <th>4</th>\n",
       "      <td>0.000000</td>\n",
       "      <td>0.0</td>\n",
       "      <td>0.0</td>\n",
       "      <td>0.000000</td>\n",
       "      <td>0.0</td>\n",
       "      <td>0.000000</td>\n",
       "      <td>0.0</td>\n",
       "      <td>0.0</td>\n",
       "      <td>0.0</td>\n",
       "      <td>0.0</td>\n",
       "      <td>...</td>\n",
       "      <td>0.0</td>\n",
       "      <td>0.0</td>\n",
       "      <td>0.0</td>\n",
       "      <td>0.0</td>\n",
       "      <td>0.0</td>\n",
       "      <td>0.0</td>\n",
       "      <td>0.0</td>\n",
       "      <td>0.0</td>\n",
       "      <td>0.0</td>\n",
       "      <td>0.00000</td>\n",
       "    </tr>\n",
       "    <tr>\n",
       "      <th>...</th>\n",
       "      <td>...</td>\n",
       "      <td>...</td>\n",
       "      <td>...</td>\n",
       "      <td>...</td>\n",
       "      <td>...</td>\n",
       "      <td>...</td>\n",
       "      <td>...</td>\n",
       "      <td>...</td>\n",
       "      <td>...</td>\n",
       "      <td>...</td>\n",
       "      <td>...</td>\n",
       "      <td>...</td>\n",
       "      <td>...</td>\n",
       "      <td>...</td>\n",
       "      <td>...</td>\n",
       "      <td>...</td>\n",
       "      <td>...</td>\n",
       "      <td>...</td>\n",
       "      <td>...</td>\n",
       "      <td>...</td>\n",
       "      <td>...</td>\n",
       "    </tr>\n",
       "    <tr>\n",
       "      <th>95</th>\n",
       "      <td>0.200976</td>\n",
       "      <td>0.0</td>\n",
       "      <td>0.0</td>\n",
       "      <td>0.000000</td>\n",
       "      <td>0.0</td>\n",
       "      <td>0.000000</td>\n",
       "      <td>0.0</td>\n",
       "      <td>0.0</td>\n",
       "      <td>0.0</td>\n",
       "      <td>0.0</td>\n",
       "      <td>...</td>\n",
       "      <td>0.0</td>\n",
       "      <td>0.0</td>\n",
       "      <td>0.0</td>\n",
       "      <td>0.0</td>\n",
       "      <td>0.0</td>\n",
       "      <td>0.0</td>\n",
       "      <td>0.0</td>\n",
       "      <td>0.0</td>\n",
       "      <td>0.0</td>\n",
       "      <td>0.18442</td>\n",
       "    </tr>\n",
       "    <tr>\n",
       "      <th>96</th>\n",
       "      <td>0.000000</td>\n",
       "      <td>0.0</td>\n",
       "      <td>0.0</td>\n",
       "      <td>0.000000</td>\n",
       "      <td>0.0</td>\n",
       "      <td>0.230636</td>\n",
       "      <td>0.0</td>\n",
       "      <td>0.0</td>\n",
       "      <td>0.0</td>\n",
       "      <td>0.0</td>\n",
       "      <td>...</td>\n",
       "      <td>0.0</td>\n",
       "      <td>0.0</td>\n",
       "      <td>0.0</td>\n",
       "      <td>0.0</td>\n",
       "      <td>0.0</td>\n",
       "      <td>0.0</td>\n",
       "      <td>0.0</td>\n",
       "      <td>0.0</td>\n",
       "      <td>0.0</td>\n",
       "      <td>0.00000</td>\n",
       "    </tr>\n",
       "    <tr>\n",
       "      <th>97</th>\n",
       "      <td>0.000000</td>\n",
       "      <td>0.0</td>\n",
       "      <td>0.0</td>\n",
       "      <td>0.000000</td>\n",
       "      <td>0.0</td>\n",
       "      <td>0.000000</td>\n",
       "      <td>0.0</td>\n",
       "      <td>0.0</td>\n",
       "      <td>0.0</td>\n",
       "      <td>0.0</td>\n",
       "      <td>...</td>\n",
       "      <td>0.0</td>\n",
       "      <td>0.0</td>\n",
       "      <td>0.0</td>\n",
       "      <td>0.0</td>\n",
       "      <td>0.0</td>\n",
       "      <td>0.0</td>\n",
       "      <td>0.0</td>\n",
       "      <td>0.0</td>\n",
       "      <td>0.0</td>\n",
       "      <td>0.00000</td>\n",
       "    </tr>\n",
       "    <tr>\n",
       "      <th>98</th>\n",
       "      <td>0.000000</td>\n",
       "      <td>0.0</td>\n",
       "      <td>0.0</td>\n",
       "      <td>0.000000</td>\n",
       "      <td>0.0</td>\n",
       "      <td>0.000000</td>\n",
       "      <td>0.0</td>\n",
       "      <td>0.0</td>\n",
       "      <td>0.0</td>\n",
       "      <td>0.0</td>\n",
       "      <td>...</td>\n",
       "      <td>0.0</td>\n",
       "      <td>0.0</td>\n",
       "      <td>0.0</td>\n",
       "      <td>0.0</td>\n",
       "      <td>0.0</td>\n",
       "      <td>0.0</td>\n",
       "      <td>0.0</td>\n",
       "      <td>0.0</td>\n",
       "      <td>0.0</td>\n",
       "      <td>0.00000</td>\n",
       "    </tr>\n",
       "    <tr>\n",
       "      <th>99</th>\n",
       "      <td>0.000000</td>\n",
       "      <td>0.0</td>\n",
       "      <td>0.0</td>\n",
       "      <td>0.000000</td>\n",
       "      <td>0.0</td>\n",
       "      <td>0.000000</td>\n",
       "      <td>0.0</td>\n",
       "      <td>0.0</td>\n",
       "      <td>0.0</td>\n",
       "      <td>0.0</td>\n",
       "      <td>...</td>\n",
       "      <td>0.0</td>\n",
       "      <td>0.0</td>\n",
       "      <td>0.0</td>\n",
       "      <td>0.0</td>\n",
       "      <td>0.0</td>\n",
       "      <td>0.0</td>\n",
       "      <td>0.0</td>\n",
       "      <td>0.0</td>\n",
       "      <td>0.0</td>\n",
       "      <td>0.00000</td>\n",
       "    </tr>\n",
       "  </tbody>\n",
       "</table>\n",
       "<p>100 rows × 1270 columns</p>\n",
       "</div>"
      ],
      "text/plain": [
       "    abdullah  acara  ada    adalah  adanya     addin  address  adik  afc  \\\n",
       "0   0.000000    0.0  0.0  0.000000     0.0  0.000000      0.0   0.0  0.0   \n",
       "1   0.000000    0.0  0.0  0.000000     0.0  0.000000      0.0   0.0  0.0   \n",
       "2   0.000000    0.0  0.0  0.164877     0.0  0.000000      0.0   0.0  0.0   \n",
       "3   0.000000    0.0  0.0  0.000000     0.0  0.000000      0.0   0.0  0.0   \n",
       "4   0.000000    0.0  0.0  0.000000     0.0  0.000000      0.0   0.0  0.0   \n",
       "..       ...    ...  ...       ...     ...       ...      ...   ...  ...   \n",
       "95  0.200976    0.0  0.0  0.000000     0.0  0.000000      0.0   0.0  0.0   \n",
       "96  0.000000    0.0  0.0  0.000000     0.0  0.230636      0.0   0.0  0.0   \n",
       "97  0.000000    0.0  0.0  0.000000     0.0  0.000000      0.0   0.0  0.0   \n",
       "98  0.000000    0.0  0.0  0.000000     0.0  0.000000      0.0   0.0  0.0   \n",
       "99  0.000000    0.0  0.0  0.000000     0.0  0.000000      0.0   0.0  0.0   \n",
       "\n",
       "    agama  ...  yaqut  yon  yong  yudha  yuk  zainal  zakat  zaman  zarnubi  \\\n",
       "0     0.0  ...    0.0  0.0   0.0    0.0  0.0     0.0    0.0    0.0      0.0   \n",
       "1     0.0  ...    0.0  0.0   0.0    0.0  0.0     0.0    0.0    0.0      0.0   \n",
       "2     0.0  ...    0.0  0.0   0.0    0.0  0.0     0.0    0.0    0.0      0.0   \n",
       "3     0.0  ...    0.0  0.0   0.0    0.0  0.0     0.0    0.0    0.0      0.0   \n",
       "4     0.0  ...    0.0  0.0   0.0    0.0  0.0     0.0    0.0    0.0      0.0   \n",
       "..    ...  ...    ...  ...   ...    ...  ...     ...    ...    ...      ...   \n",
       "95    0.0  ...    0.0  0.0   0.0    0.0  0.0     0.0    0.0    0.0      0.0   \n",
       "96    0.0  ...    0.0  0.0   0.0    0.0  0.0     0.0    0.0    0.0      0.0   \n",
       "97    0.0  ...    0.0  0.0   0.0    0.0  0.0     0.0    0.0    0.0      0.0   \n",
       "98    0.0  ...    0.0  0.0   0.0    0.0  0.0     0.0    0.0    0.0      0.0   \n",
       "99    0.0  ...    0.0  0.0   0.0    0.0  0.0     0.0    0.0    0.0      0.0   \n",
       "\n",
       "       zona  \n",
       "0   0.00000  \n",
       "1   0.00000  \n",
       "2   0.00000  \n",
       "3   0.00000  \n",
       "4   0.00000  \n",
       "..      ...  \n",
       "95  0.18442  \n",
       "96  0.00000  \n",
       "97  0.00000  \n",
       "98  0.00000  \n",
       "99  0.00000  \n",
       "\n",
       "[100 rows x 1270 columns]"
      ]
     },
     "execution_count": 6,
     "metadata": {},
     "output_type": "execute_result"
    }
   ],
   "source": [
    "# Inisialisasi penghitung TF-IDF\n",
    "tfidf_vectorizer = TfidfVectorizer()\n",
    "\n",
    "# Hitung TF-IDF\n",
    "tfidf_matrix = tfidf_vectorizer.fit_transform(isi)\n",
    "\n",
    "# Daftar kata kunci\n",
    "feature_names = tfidf_vectorizer.get_feature_names_out()\n",
    "\n",
    "# Konversi matriks TF-IDF menjadi bentuk yang lebih mudah dibaca\n",
    "tfidf_values = tfidf_matrix.toarray()\n",
    "\n",
    "# Membuat DataFrame untuk menyimpan data TF-IDF\n",
    "df_tfidf = pd.DataFrame(tfidf_values, columns=feature_names)\n",
    "\n",
    "# Menampilkan DataFrame\n",
    "df_tfidf"
   ]
  },
  {
   "cell_type": "markdown",
   "metadata": {},
   "source": [
    "Diketahui jumlah data df_tfidf berjumlah 100 rows dengan 1270 fitur."
   ]
  },
  {
   "cell_type": "markdown",
   "metadata": {
    "id": "k9FgxCVxmlM8"
   },
   "source": [
    "### Sampling dan Splitting Data"
   ]
  },
  {
   "cell_type": "code",
   "execution_count": 7,
   "metadata": {
    "colab": {
     "base_uri": "https://localhost:8080/"
    },
    "id": "6iIBuAQmieBb",
    "outputId": "347ddf16-fe0a-4d24-fb42-b4e39d9b7858"
   },
   "outputs": [
    {
     "name": "stdout",
     "output_type": "stream",
     "text": [
      "(12, 1270)\n",
      "(4, 1270)\n",
      "(12,)\n",
      "(4,)\n"
     ]
    }
   ],
   "source": [
    "# Ambil 16 sampel secara acak dari data fitur (X) dan sesuaikan dengan labelnya (Y)\n",
    "sampled_data = df_tfidf.sample(n=16, random_state=42)  # Mengambil 16 sampel secara acak dari df_tfidf\n",
    "X_sampled = sampled_data  # Data fitur yang diambil secara acak\n",
    "Y_sampled = df.loc[sampled_data.index, 'Kategori']  # Mengambil label yang sesuai\n",
    "\n",
    "# Bagi data menjadi training dan testing\n",
    "X_train, X_test, y_train, y_test = train_test_split(X_sampled, Y_sampled, test_size=0.2, random_state=42)\n",
    "\n",
    "print(X_train.shape)\n",
    "print(X_test.shape)\n",
    "print(y_train.shape)\n",
    "print(y_test.shape)"
   ]
  },
  {
   "cell_type": "markdown",
   "metadata": {
    "id": "Gk9Rdw8QunSg"
   },
   "source": [
    "### Permodelan Regresion Logistic"
   ]
  },
  {
   "cell_type": "code",
   "execution_count": 8,
   "metadata": {
    "colab": {
     "base_uri": "https://localhost:8080/"
    },
    "id": "xPGfu3mZusNQ",
    "outputId": "391dcce1-8b4c-418f-af30-ddda90aba9b2"
   },
   "outputs": [
    {
     "name": "stdout",
     "output_type": "stream",
     "text": [
      "Accuracy: 0.0\n",
      "Confusion Matrix:\n",
      " [[0 0 0 1]\n",
      " [0 0 0 1]\n",
      " [0 0 0 2]\n",
      " [0 0 0 0]]\n",
      "Classification Report:\n",
      "                 precision    recall  f1-score   support\n",
      "\n",
      "        DAERAH       0.00      0.00      0.00       1.0\n",
      "EKONOMI BISNIS       0.00      0.00      0.00       1.0\n",
      "     LIFESTYLE       0.00      0.00      0.00       2.0\n",
      "        SPORTS       0.00      0.00      0.00       0.0\n",
      "\n",
      "      accuracy                           0.00       4.0\n",
      "     macro avg       0.00      0.00      0.00       4.0\n",
      "  weighted avg       0.00      0.00      0.00       4.0\n",
      "\n"
     ]
    },
    {
     "name": "stderr",
     "output_type": "stream",
     "text": [
      "/home/codespace/.local/lib/python3.12/site-packages/sklearn/metrics/_classification.py:1531: UndefinedMetricWarning: Precision is ill-defined and being set to 0.0 in labels with no predicted samples. Use `zero_division` parameter to control this behavior.\n",
      "  _warn_prf(average, modifier, f\"{metric.capitalize()} is\", len(result))\n",
      "/home/codespace/.local/lib/python3.12/site-packages/sklearn/metrics/_classification.py:1531: UndefinedMetricWarning: Recall is ill-defined and being set to 0.0 in labels with no true samples. Use `zero_division` parameter to control this behavior.\n",
      "  _warn_prf(average, modifier, f\"{metric.capitalize()} is\", len(result))\n",
      "/home/codespace/.local/lib/python3.12/site-packages/sklearn/metrics/_classification.py:1531: UndefinedMetricWarning: Precision is ill-defined and being set to 0.0 in labels with no predicted samples. Use `zero_division` parameter to control this behavior.\n",
      "  _warn_prf(average, modifier, f\"{metric.capitalize()} is\", len(result))\n",
      "/home/codespace/.local/lib/python3.12/site-packages/sklearn/metrics/_classification.py:1531: UndefinedMetricWarning: Recall is ill-defined and being set to 0.0 in labels with no true samples. Use `zero_division` parameter to control this behavior.\n",
      "  _warn_prf(average, modifier, f\"{metric.capitalize()} is\", len(result))\n",
      "/home/codespace/.local/lib/python3.12/site-packages/sklearn/metrics/_classification.py:1531: UndefinedMetricWarning: Precision is ill-defined and being set to 0.0 in labels with no predicted samples. Use `zero_division` parameter to control this behavior.\n",
      "  _warn_prf(average, modifier, f\"{metric.capitalize()} is\", len(result))\n",
      "/home/codespace/.local/lib/python3.12/site-packages/sklearn/metrics/_classification.py:1531: UndefinedMetricWarning: Recall is ill-defined and being set to 0.0 in labels with no true samples. Use `zero_division` parameter to control this behavior.\n",
      "  _warn_prf(average, modifier, f\"{metric.capitalize()} is\", len(result))\n"
     ]
    }
   ],
   "source": [
    "# Inisialisasi Regression Logistic dan melatih model\n",
    "clf = LogisticRegression(random_state=0).fit(X_train, y_train)\n",
    "\n",
    "# Melakukan prediksi pada data testing\n",
    "y_pred = clf.predict(X_test)\n",
    "\n",
    "# Evaluasi Model\n",
    "accuracy = accuracy_score(y_test, y_pred)\n",
    "conf_matrix = confusion_matrix(y_test, y_pred)\n",
    "class_report = classification_report(y_test, y_pred)\n",
    "\n",
    "print(\"Accuracy:\", accuracy)\n",
    "print(\"Confusion Matrix:\\n\", conf_matrix)\n",
    "print(\"Classification Report:\\n\", class_report)"
   ]
  }
 ],
 "metadata": {
  "colab": {
   "provenance": []
  },
  "kernelspec": {
   "display_name": "Python 3",
   "name": "python3"
  },
  "language_info": {
   "codemirror_mode": {
    "name": "ipython",
    "version": 3
   },
   "file_extension": ".py",
   "mimetype": "text/x-python",
   "name": "python",
   "nbconvert_exporter": "python",
   "pygments_lexer": "ipython3",
   "version": "3.12.1"
  }
 },
 "nbformat": 4,
 "nbformat_minor": 0
}